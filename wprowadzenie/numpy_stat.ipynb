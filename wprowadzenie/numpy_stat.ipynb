{
  "nbformat": 4,
  "nbformat_minor": 0,
  "metadata": {
    "colab": {
      "provenance": [],
      "authorship_tag": "ABX9TyNrP7jcyJIeecl6yzaiualJ",
      "include_colab_link": true
    },
    "kernelspec": {
      "name": "python3",
      "display_name": "Python 3"
    },
    "language_info": {
      "name": "python"
    }
  },
  "cells": [
    {
      "cell_type": "markdown",
      "metadata": {
        "id": "view-in-github",
        "colab_type": "text"
      },
      "source": [
        "<a href=\"https://colab.research.google.com/github/DomSarr/data_science_example_1/blob/main/wprowadzenie/numpy_stat.ipynb\" target=\"_parent\"><img src=\"https://colab.research.google.com/assets/colab-badge.svg\" alt=\"Open In Colab\"/></a>"
      ]
    },
    {
      "cell_type": "code",
      "execution_count": 1,
      "metadata": {
        "id": "cO5Bp6Y66MdF"
      },
      "outputs": [],
      "source": [
        "import numpy as np"
      ]
    },
    {
      "cell_type": "code",
      "source": [
        "price = np.array([[12.40, 12.80, 11.90, 12.60, 1000],\n",
        "                  [12.50, 13.00, 11.70, 12.20, 2000],\n",
        "                  [12.20, 13.40, 12.20, 13.20, 1500]])\n",
        "print(price)"
      ],
      "metadata": {
        "colab": {
          "base_uri": "https://localhost:8080/"
        },
        "id": "B3QKuYF36ORs",
        "outputId": "57fe0f67-636a-4b2d-a424-56d774a90b30"
      },
      "execution_count": 2,
      "outputs": [
        {
          "output_type": "stream",
          "name": "stdout",
          "text": [
            "[[  12.4   12.8   11.9   12.6 1000. ]\n",
            " [  12.5   13.    11.7   12.2 2000. ]\n",
            " [  12.2   13.4   12.2   13.2 1500. ]]\n"
          ]
        }
      ]
    },
    {
      "cell_type": "markdown",
      "source": [
        "suma wszytskiego"
      ],
      "metadata": {
        "id": "exnucmrt7NEB"
      }
    },
    {
      "cell_type": "code",
      "source": [
        "price.sum()"
      ],
      "metadata": {
        "colab": {
          "base_uri": "https://localhost:8080/"
        },
        "id": "7cU-SKb66s3T",
        "outputId": "e5a50981-dcba-431d-808d-89c32ba980b6"
      },
      "execution_count": 4,
      "outputs": [
        {
          "output_type": "execute_result",
          "data": {
            "text/plain": [
              "np.float64(4650.1)"
            ]
          },
          "metadata": {},
          "execution_count": 4
        }
      ]
    },
    {
      "cell_type": "markdown",
      "source": [
        "suma po pokulmnach, numer indeksu"
      ],
      "metadata": {
        "id": "z_dKTWCf7RST"
      }
    },
    {
      "cell_type": "code",
      "source": [
        "price.sum(axis=0)"
      ],
      "metadata": {
        "colab": {
          "base_uri": "https://localhost:8080/"
        },
        "id": "X8CDBJ2E6-Qp",
        "outputId": "8730880a-abed-4439-f96c-2a0f788660c8"
      },
      "execution_count": 5,
      "outputs": [
        {
          "output_type": "execute_result",
          "data": {
            "text/plain": [
              "array([  37.1,   39.2,   35.8,   38. , 4500. ])"
            ]
          },
          "metadata": {},
          "execution_count": 5
        }
      ]
    },
    {
      "cell_type": "markdown",
      "source": [
        "suma po wierszach"
      ],
      "metadata": {
        "id": "ac_wmcoi7ey-"
      }
    },
    {
      "cell_type": "code",
      "source": [
        "price.sum(axis=1)"
      ],
      "metadata": {
        "colab": {
          "base_uri": "https://localhost:8080/"
        },
        "id": "0V3mUZkt7QjO",
        "outputId": "98eebdd1-cf63-47c3-8f4f-cfb942aa952a"
      },
      "execution_count": 6,
      "outputs": [
        {
          "output_type": "execute_result",
          "data": {
            "text/plain": [
              "array([1049.7, 2049.4, 1551. ])"
            ]
          },
          "metadata": {},
          "execution_count": 6
        }
      ]
    },
    {
      "cell_type": "code",
      "source": [
        "np.min(price)"
      ],
      "metadata": {
        "colab": {
          "base_uri": "https://localhost:8080/"
        },
        "id": "SPBjJ9fv7d_0",
        "outputId": "4f02a553-27c4-4238-b82e-21c3e3239452"
      },
      "execution_count": 7,
      "outputs": [
        {
          "output_type": "execute_result",
          "data": {
            "text/plain": [
              "np.float64(11.7)"
            ]
          },
          "metadata": {},
          "execution_count": 7
        }
      ]
    },
    {
      "cell_type": "code",
      "source": [
        "np.min(price, axis=0)"
      ],
      "metadata": {
        "colab": {
          "base_uri": "https://localhost:8080/"
        },
        "id": "jCeXqHns8Drh",
        "outputId": "0db53e9d-9f4b-451f-fe3e-917ff4c554ed"
      },
      "execution_count": 8,
      "outputs": [
        {
          "output_type": "execute_result",
          "data": {
            "text/plain": [
              "array([  12.2,   12.8,   11.7,   12.2, 1000. ])"
            ]
          },
          "metadata": {},
          "execution_count": 8
        }
      ]
    },
    {
      "cell_type": "code",
      "source": [
        "np.max(price)"
      ],
      "metadata": {
        "colab": {
          "base_uri": "https://localhost:8080/"
        },
        "id": "_tEo0lgi8G7e",
        "outputId": "d19186f8-b8e8-4081-9a3c-3260d06699a8"
      },
      "execution_count": 9,
      "outputs": [
        {
          "output_type": "execute_result",
          "data": {
            "text/plain": [
              "np.float64(2000.0)"
            ]
          },
          "metadata": {},
          "execution_count": 9
        }
      ]
    },
    {
      "cell_type": "code",
      "source": [
        "np.max(price, axis=0)"
      ],
      "metadata": {
        "colab": {
          "base_uri": "https://localhost:8080/"
        },
        "id": "9mOZRcVe8hdS",
        "outputId": "cb21c806-b5b4-4050-9aeb-29c33fb9e651"
      },
      "execution_count": 12,
      "outputs": [
        {
          "output_type": "execute_result",
          "data": {
            "text/plain": [
              "array([  12.5,   13.4,   12.2,   13.2, 2000. ])"
            ]
          },
          "metadata": {},
          "execution_count": 12
        }
      ]
    },
    {
      "cell_type": "code",
      "source": [
        "np.median(price)"
      ],
      "metadata": {
        "colab": {
          "base_uri": "https://localhost:8080/"
        },
        "id": "D7imDaTJ8kYM",
        "outputId": "e983aa6a-4c91-4e88-a267-549b918e436b"
      },
      "execution_count": 13,
      "outputs": [
        {
          "output_type": "execute_result",
          "data": {
            "text/plain": [
              "np.float64(12.6)"
            ]
          },
          "metadata": {},
          "execution_count": 13
        }
      ]
    },
    {
      "cell_type": "markdown",
      "source": [
        "średnia"
      ],
      "metadata": {
        "id": "2zKB0XZF83Fm"
      }
    },
    {
      "cell_type": "code",
      "source": [
        "np.mean(price, axis=0)"
      ],
      "metadata": {
        "colab": {
          "base_uri": "https://localhost:8080/"
        },
        "id": "sUl0yScj8vaO",
        "outputId": "90efa4f5-542d-4a0e-b781-a9a96f58dfbf"
      },
      "execution_count": 14,
      "outputs": [
        {
          "output_type": "execute_result",
          "data": {
            "text/plain": [
              "array([  12.36666667,   13.06666667,   11.93333333,   12.66666667,\n",
              "       1500.        ])"
            ]
          },
          "metadata": {},
          "execution_count": 14
        }
      ]
    },
    {
      "cell_type": "markdown",
      "source": [
        "odchylenie standardowe"
      ],
      "metadata": {
        "id": "-2TzyXAd85w8"
      }
    },
    {
      "cell_type": "code",
      "source": [
        "np.set_printoptions(precision=4, suppress=True)\n",
        "np.std(price, axis=0)"
      ],
      "metadata": {
        "colab": {
          "base_uri": "https://localhost:8080/"
        },
        "id": "ScLicIjS8y07",
        "outputId": "c688c140-98cf-4384-853f-72c11c4ad276"
      },
      "execution_count": 18,
      "outputs": [
        {
          "output_type": "execute_result",
          "data": {
            "text/plain": [
              "array([  0.1247,   0.2494,   0.2055,   0.411 , 408.2483])"
            ]
          },
          "metadata": {},
          "execution_count": 18
        }
      ]
    },
    {
      "cell_type": "code",
      "source": [
        "np.var(price, axis=0)"
      ],
      "metadata": {
        "colab": {
          "base_uri": "https://localhost:8080/"
        },
        "id": "Oa--gzpy89En",
        "outputId": "843233c7-1d97-4327-bc3b-65445ce68da5"
      },
      "execution_count": 19,
      "outputs": [
        {
          "output_type": "execute_result",
          "data": {
            "text/plain": [
              "array([     0.0156,      0.0622,      0.0422,      0.1689, 166666.6667])"
            ]
          },
          "metadata": {},
          "execution_count": 19
        }
      ]
    },
    {
      "cell_type": "code",
      "source": [],
      "metadata": {
        "id": "g_86ieKY9Ex4"
      },
      "execution_count": null,
      "outputs": []
    }
  ]
}